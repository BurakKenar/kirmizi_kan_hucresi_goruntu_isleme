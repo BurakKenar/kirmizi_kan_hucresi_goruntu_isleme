{
  "nbformat": 4,
  "nbformat_minor": 0,
  "metadata": {
    "colab": {
      "provenance": [],
      "history_visible": true,
      "authorship_tag": "ABX9TyM5tOMFW+DUyhzrI+Wcla2y"
    },
    "kernelspec": {
      "name": "python3",
      "display_name": "Python 3"
    },
    "language_info": {
      "name": "python"
    }
  },
  "cells": [
    {
      "cell_type": "code",
      "source": [],
      "metadata": {
        "id": "pF4ILnaYKxsb"
      },
      "execution_count": null,
      "outputs": []
    },
    {
      "cell_type": "code",
      "execution_count": null,
      "metadata": {
        "id": "D2RzOmu3-W42",
        "colab": {
          "base_uri": "https://localhost:8080/"
        },
        "outputId": "a5285225-0caa-4449-9cea-a66636709ecb"
      },
      "outputs": [
        {
          "output_type": "stream",
          "name": "stdout",
          "text": [
            "Mounted at /content/drive\n",
            "['gözlem12.05.22_1.TIF', 'gözlem12.05.22_ref 1.TIF', 'gözlem12.05.22_ref 2.TIF', 'gözlem12.05.22_8.TIF', 'gözlem12.05.22_7.TIF', 'gözlem12.05.22_6.TIF', 'gözlem12.05.22_5.TIF', 'gözlem12.05.22_4.TIF', 'gözlem12.05.22_3.TIF', 'gözlem12.05.22_2.TIF', 'BohemanRhapsody Melody Note Book.pdf']\n",
            "end of files\n",
            "['gözlem12.05.22_1.TIF', 'gözlem12.05.22_ref 1.TIF', 'gözlem12.05.22_ref 2.TIF', 'gözlem12.05.22_8.TIF', 'gözlem12.05.22_7.TIF', 'gözlem12.05.22_6.TIF', 'gözlem12.05.22_5.TIF', 'gözlem12.05.22_4.TIF', 'gözlem12.05.22_3.TIF', 'gözlem12.05.22_2.TIF']\n",
            "observation images ['gözlem12.05.22_1.TIF', 'gözlem12.05.22_8.TIF', 'gözlem12.05.22_7.TIF', 'gözlem12.05.22_6.TIF', 'gözlem12.05.22_5.TIF', 'gözlem12.05.22_4.TIF', 'gözlem12.05.22_3.TIF', 'gözlem12.05.22_2.TIF']\n",
            "end of observation images\n",
            "reference images: ['gözlem12.05.22_ref 1.TIF', 'gözlem12.05.22_ref 2.TIF']\n"
          ]
        }
      ],
      "source": [
        "#  get names of .tif files in a folder in google drive to a list\n",
        "\n",
        "import os\n",
        "from google.colab import drive\n",
        "import re\n",
        "\n",
        "# Mount your Google Drive\n",
        "drive.mount('/content/drive')\n",
        "\n",
        "# Get the path to the folder containing the .tif files\n",
        "folder_path = '/content/drive/My Drive/ColabSamples'\n",
        "\n",
        "# Get a list of all files in the folder\n",
        "files = os.listdir(folder_path)\n",
        "\n",
        "# Filter the list to only include .tif files\n",
        "extensions = ('.tiff', '.tif')\n",
        "tif_files = [file_name for file_name in files if file_name.lower().endswith(extensions)]\n",
        "#tif_files = os.listdir(folder_path)\n",
        "# Print the list of .tif files\n",
        "print(files)\n",
        "print('end of files')\n",
        "print(tif_files)\n",
        "\n",
        "\n",
        "# Filter out from the list of tif files\n",
        "# as the keyword \"ref\" in the filename (reference files) and others (filtered files)\n",
        "#reference_files = [f for f in tif_files if re.match(r'ref', f)]\n",
        "filtered_files = []\n",
        "reference_files = []\n",
        "for filename in tif_files:\n",
        "  if \"ref\"  in filename:\n",
        "    reference_files.append(filename)\n",
        "  else  :\n",
        "    filtered_files.append(filename)\n",
        "\n",
        "# Print the filtered list of .tif files\n",
        "print('observation images', filtered_files)\n",
        "print(\"end of observation images\")\n",
        "print('reference images:', reference_files)\n",
        "\n",
        "#done"
      ]
    },
    {
      "cell_type": "code",
      "source": [
        "# from PIL import Image\n",
        "from PIL.ExifTags import TAGS\n",
        "import pathlib\n",
        "import csv\n",
        "\n",
        "import glob\n",
        "from PIL import Image\n",
        "import pandas as pd\n",
        "\n",
        "\n",
        "index_i_max = len(filtered_files)\n",
        "index_i = 0 # counter in list of filtered files\n",
        "ref_switch = 0 # switch between reference files\n",
        "\n",
        "#img = Image.open('test_tif/sample.tif')\n",
        "image = Image.open(os.path.join(folder_path, filtered_files[index_i]))\n",
        "\n",
        "# extract other basic metadata\n",
        "info_dict = {\n",
        "    \"Filename\": image.filename.split('/')[1],\n",
        "    \"Image Size\": image.size,\n",
        "    \"Image Height\": image.height,\n",
        "    \"Image Width\": image.width,\n",
        "    \"Image Format\": image.format,\n",
        "    \"Image Mode\": image.mode,\n",
        "    \"Image is Animated\": getattr(image, \"is_animated\", False),\n",
        "    \"Frames in Image\": getattr(image, \"n_frames\", 1),\n",
        "}\n",
        "\n",
        "print(info_dict)\n",
        "\n",
        "#info.append(info_dict)\n",
        "\n",
        "#done"
      ],
      "metadata": {
        "colab": {
          "base_uri": "https://localhost:8080/"
        },
        "id": "aRis20o0eSdi",
        "outputId": "fc537f71-93f1-42ee-e8b8-bca46a89cde7"
      },
      "execution_count": null,
      "outputs": [
        {
          "output_type": "stream",
          "name": "stdout",
          "text": [
            "{'Filename': 'content', 'Image Size': (2048, 2048), 'Image Height': 2048, 'Image Width': 2048, 'Image Format': 'TIFF', 'Image Mode': 'I;16', 'Image is Animated': False, 'Frames in Image': 1}\n"
          ]
        }
      ]
    },
    {
      "cell_type": "code",
      "source": [
        "#  in filtered_files , first element in list matching document if it is a grayscale tif file, read it to matrix\n",
        "\n",
        "import tifffile as tiff\n",
        "#import os\n",
        "\n",
        "print(len(files),\", \",len(tif_files))\n",
        "print(len(filtered_files))\n",
        "print(len(reference_files))\n",
        "\n",
        "if not os.path.isdir(folder_path):\n",
        "    print(\"The 'folder_path' variable is invalid.\")\n",
        "    # Investigate why the folder path is invalid (e.g., check if the folder exists)\n",
        "\n",
        "# Get the path to the first filtered file\n",
        "filtered_files_path = os.path.join(folder_path, filtered_files[index_i])\n",
        "reference_files_path = os.path.join(folder_path, reference_files[ref_switch])\n",
        "\n",
        "# Read the grayscale tif file to a matrix\n",
        "image_matrix = tiff.imread(filtered_files_path)\n",
        "reference_matrix = tiff.imread(reference_files_path)\n",
        "# Print the shape of the matrix\n",
        "print(image_matrix.shape)\n",
        "print(reference_matrix.shape)\n",
        "\n",
        "#done"
      ],
      "metadata": {
        "id": "ef1-PnlvPXpk",
        "colab": {
          "base_uri": "https://localhost:8080/"
        },
        "outputId": "12e36b6c-122b-4945-c63f-34e3308fb570"
      },
      "execution_count": null,
      "outputs": [
        {
          "output_type": "stream",
          "name": "stdout",
          "text": [
            "16 ,  10\n",
            "8\n",
            "2\n",
            "(2048, 2048)\n",
            "(2048, 2048)\n"
          ]
        }
      ]
    },
    {
      "cell_type": "code",
      "source": [
        "#  create new difference_matrix, size [n,n] ; compare each [n,n] value from \"image_matrix\" and \"reference_matrix\" and, if difference bigger than 20 write to difference_matrix [n,n] , there n=2048\n",
        "\n",
        "import numpy as np\n",
        "n=2047\n",
        "m=2047\n",
        "\n",
        "#print (reference_matrix[n, m])\n",
        "#print (image_matrix[n, m])\n",
        "\n",
        "\n",
        "#compare reference and image, pixel by pixel\n",
        "#if difference little as var=10 mark position in difference matrix with value 120\n",
        "#if bigger than 10 get image value and position, so that we got 'where cells are'\n",
        "\n",
        "#16 bit grayscale has 2^16 = 65536 tone and tif doesnt support it with alpha channel (transparency)\n",
        "#for now reduce it to 8 bit with /256\n",
        "\n",
        "difference_matrix = np.zeros((n, m, 4))\n",
        "for i in range(n):\n",
        "    for j in range(m):\n",
        "        if ((reference_matrix[i, j]/256) - (image_matrix[i, j])/256) > 10:\n",
        "            difference_matrix[i, j] = (image_matrix[i, j]/256)\n",
        "            difference_matrix[i, j, 3] = 120\n",
        "\n",
        "#temp vers 1    works"
      ],
      "metadata": {
        "id": "0DiRYdk1SG2z"
      },
      "execution_count": null,
      "outputs": []
    },
    {
      "cell_type": "code",
      "source": [
        "# Create a 100x100 grayscale image with transparent background\n",
        "#import numpy as np\n",
        "#import tifffile as tiff     ---çalışıyor--- 32bit RGB\n",
        "\n",
        "#n=100\n",
        "#m=100\n",
        "#new_save_name = 'deneme_149_1a'\n",
        "new_save_name = 'deneme_149_' + str(index_i) + '_1a'\n",
        "\n",
        "new_image = np.zeros((n, m, 4), dtype=np.uint8)\n",
        "new_image[:, :, 3] = 0  # Set alpha channel to 0 (transparent) ; (0,1,2)=(RGB) ; (3)=alpha\n",
        "\n",
        "# Save the image as a grayscale tif file\n",
        "#tiff.imsave('new_image.tif', new_image, dtype='uint8')\n",
        "new_file_path = os.path.join(folder_path, new_save_name)\n",
        "tiff.imsave(new_file_path, difference_matrix)\n",
        "\n",
        "#temp vers 1 a works"
      ],
      "metadata": {
        "colab": {
          "base_uri": "https://localhost:8080/"
        },
        "id": "mfE3HQgaIlz1",
        "outputId": "5c6247f7-343c-4e20-ebf4-79c3c4761a67"
      },
      "execution_count": null,
      "outputs": [
        {
          "output_type": "stream",
          "name": "stderr",
          "text": [
            "<ipython-input-46-51322427c831>:16: DeprecationWarning: <tifffile.imsave> is deprecated. Use tifffile.imwrite\n",
            "  tiff.imsave(new_file_path, difference_matrix)\n"
          ]
        }
      ]
    },
    {
      "cell_type": "code",
      "source": [
        "# for repetitive process\n",
        "for index_i in range(index_i_max):\n",
        "    # Get the path to the index_i'th filtered file\n",
        "    filtered_files_path = os.path.join(folder_path, filtered_files[index_i])\n",
        "    # Read the grayscale tif file to a matrix\n",
        "    image_matrix = tiff.imread(filtered_files_path)\n",
        "    # Print the shape of the matrix\n",
        "    print(image_matrix.shape)\n",
        "    difference_matrix = np.zeros((n, m, 4))\n",
        "    for i in range(n):\n",
        "        for j in range(m):\n",
        "            if ((reference_matrix[i, j]/256) - (image_matrix[i, j])/256) > 10:\n",
        "                difference_matrix[i, j] = (image_matrix[i, j]/256)\n",
        "                difference_matrix[i, j, 3] = 120\n",
        "    new_save_name = 'deneme_149_' + str(index_i) + '_1a'\n",
        "    new_file_path = os.path.join(folder_path, new_save_name)\n",
        "    tiff.imsave(new_file_path, difference_matrix)\n",
        "\n",
        "\n",
        "\n",
        "\n",
        "\n",
        "\n",
        "\n"
      ],
      "metadata": {
        "colab": {
          "base_uri": "https://localhost:8080/"
        },
        "id": "nHxiG4NI6D_t",
        "outputId": "9bf34524-7fc4-4581-ef17-fe414fa62544"
      },
      "execution_count": null,
      "outputs": [
        {
          "output_type": "stream",
          "name": "stdout",
          "text": [
            "(2048, 2048)\n"
          ]
        },
        {
          "output_type": "stream",
          "name": "stderr",
          "text": [
            "<ipython-input-50-333fdbebfc4e>:17: DeprecationWarning: <tifffile.imsave> is deprecated. Use tifffile.imwrite\n",
            "  tiff.imsave(new_file_path, difference_matrix)\n"
          ]
        },
        {
          "output_type": "stream",
          "name": "stdout",
          "text": [
            "(2048, 2048)\n",
            "(2048, 2048)\n",
            "(2048, 2048)\n",
            "(2048, 2048)\n",
            "(2048, 2048)\n",
            "(2048, 2048)\n",
            "(2048, 2048)\n"
          ]
        }
      ]
    },
    {
      "cell_type": "markdown",
      "source": [
        "below there only test purpose"
      ],
      "metadata": {
        "id": "vQxSfN-w5_LQ"
      }
    },
    {
      "cell_type": "code",
      "source": [
        "# !pip install tifffile==2024.5.22\n",
        "\n",
        "n=100\n",
        "m=100\n",
        "#, dtyupe=np.uint16)\n",
        "grayscale_data = np.random.randint(0, 65535, (n,m), np.dtype('uint16'))\n",
        "alpha_data = np.full((n, m), 255, dtype=np.uint8) # full opaque\n",
        "\n",
        "# combine grayscale and alpha chanel\n",
        "combined_data = np.stack([grayscale_data, alpha_data], axis=-1)\n",
        "\n",
        "#save tiff file with combined_data\n",
        "filename = 'new_image_aaa1.tif'\n",
        "filepath = os.path.join(folder_path, filename)\n",
        "tiff.imsave(filepath, combined_data)\n",
        "\n",
        "#temp vers 1 b -not working"
      ],
      "metadata": {
        "id": "h_DLDW4hMlfE",
        "colab": {
          "base_uri": "https://localhost:8080/"
        },
        "outputId": "775776ad-862c-44af-aa6b-c3d98af290a6"
      },
      "execution_count": null,
      "outputs": [
        {
          "output_type": "stream",
          "name": "stderr",
          "text": [
            "<ipython-input-9-e7c67a4719da>:15: DeprecationWarning: <tifffile.imsave> is deprecated. Use tifffile.imwrite\n",
            "  tiff.imsave(filepath, combined_data)\n"
          ]
        }
      ]
    },
    {
      "cell_type": "code",
      "source": [
        "# create a new tif file with part of that matrix row: 20 to 130, column: 40 to 160 and 10 transparent on each side\n",
        "\n",
        "import numpy as np\n",
        "# Create a new matrix with the specified dimensions\n",
        "new_image_matrix = np.zeros((110, 120, 4), dtype=np.uint8)\n",
        "\n",
        "# Copy the relevant portion of the original matrix to the new matrix\n",
        "new_image_matrix[10:-10, 10:-10, :] = image_matrix[20:130, 40:160, :]\n",
        "\n",
        "# Save the new matrix to a new tif file\n",
        "new_file_path = os.path.join(folder_path, 'new_image.tif')\n",
        "tiff.imsave(new_file_path, new_image_matrix)\n",
        "\n",
        "# temp vers 1 c -not working"
      ],
      "metadata": {
        "id": "UqDogakjQzTV",
        "colab": {
          "base_uri": "https://localhost:8080/",
          "height": 211
        },
        "outputId": "12417c13-7a81-434b-c166-cd774696e18e"
      },
      "execution_count": null,
      "outputs": [
        {
          "output_type": "error",
          "ename": "IndexError",
          "evalue": "too many indices for array: array is 2-dimensional, but 3 were indexed",
          "traceback": [
            "\u001b[0;31m---------------------------------------------------------------------------\u001b[0m",
            "\u001b[0;31mIndexError\u001b[0m                                Traceback (most recent call last)",
            "\u001b[0;32m<ipython-input-7-16edf3f387d6>\u001b[0m in \u001b[0;36m<cell line: 8>\u001b[0;34m()\u001b[0m\n\u001b[1;32m      6\u001b[0m \u001b[0;34m\u001b[0m\u001b[0m\n\u001b[1;32m      7\u001b[0m \u001b[0;31m# Copy the relevant portion of the original matrix to the new matrix\u001b[0m\u001b[0;34m\u001b[0m\u001b[0;34m\u001b[0m\u001b[0m\n\u001b[0;32m----> 8\u001b[0;31m \u001b[0mnew_image_matrix\u001b[0m\u001b[0;34m[\u001b[0m\u001b[0;36m10\u001b[0m\u001b[0;34m:\u001b[0m\u001b[0;34m-\u001b[0m\u001b[0;36m10\u001b[0m\u001b[0;34m,\u001b[0m \u001b[0;36m10\u001b[0m\u001b[0;34m:\u001b[0m\u001b[0;34m-\u001b[0m\u001b[0;36m10\u001b[0m\u001b[0;34m,\u001b[0m \u001b[0;34m:\u001b[0m\u001b[0;34m]\u001b[0m \u001b[0;34m=\u001b[0m \u001b[0mimage_matrix\u001b[0m\u001b[0;34m[\u001b[0m\u001b[0;36m20\u001b[0m\u001b[0;34m:\u001b[0m\u001b[0;36m130\u001b[0m\u001b[0;34m,\u001b[0m \u001b[0;36m40\u001b[0m\u001b[0;34m:\u001b[0m\u001b[0;36m160\u001b[0m\u001b[0;34m,\u001b[0m \u001b[0;34m:\u001b[0m\u001b[0;34m]\u001b[0m\u001b[0;34m\u001b[0m\u001b[0;34m\u001b[0m\u001b[0m\n\u001b[0m\u001b[1;32m      9\u001b[0m \u001b[0;34m\u001b[0m\u001b[0m\n\u001b[1;32m     10\u001b[0m \u001b[0;31m# Save the new matrix to a new tif file\u001b[0m\u001b[0;34m\u001b[0m\u001b[0;34m\u001b[0m\u001b[0m\n",
            "\u001b[0;31mIndexError\u001b[0m: too many indices for array: array is 2-dimensional, but 3 were indexed"
          ]
        }
      ]
    },
    {
      "cell_type": "code",
      "source": [
        "# prompt: create new difference_matrix, size [n,n] ; compare each [n,n] value from \"image_matrix\" and \"reference_matrix\" and, if difference bigger than 20 write to difference_matrix [n,n] , there n=2048\n",
        "\n",
        "import numpy as np\n",
        "#n=2047\n",
        "#m=2047\n",
        "\n",
        "n=1500\n",
        "m=700\n",
        "\n",
        "#print (reference_matrix[n, m])\n",
        "#print (image_matrix[n, m])\n",
        "\n",
        "\n",
        "#compare reference and image, pixel by pixel\n",
        "#if difference little as var=10 mark position in difference matrix with value 120\n",
        "#if bigger than 10 get image value and position, so that we got 'where cells are'\n",
        "\n",
        "#16 bit grayscale has 2^16 = 65536 tone and tif doesnt support it with alpha channel (transparency)\n",
        "#for now reduce it to 8 bit with /256\n",
        "\n",
        "alpha_data = np.full((n, m), 255, dtype=np.uint8) # full opaque\n",
        "\n",
        "difference_matrix = np.zeros((n, m, 1)) #4\n",
        "for i in range(n):\n",
        "    for j in range(m):\n",
        "        if ((reference_matrix[i, j]/256) - (image_matrix[i, j])/256) > 10:\n",
        "            difference_matrix[i, j] = (image_matrix[i, j]/256)\n",
        "        alpha_data[i, j] = 100\n",
        "            #difference_matrix[i, j, 1] = 27 #3 difference_matrix[i, j, 3] = 120 #\n",
        "\n",
        "        alarm = 1\n",
        "\n",
        "#temp vers 2"
      ],
      "metadata": {
        "id": "cihzUQsa1_Uo"
      },
      "execution_count": null,
      "outputs": []
    },
    {
      "cell_type": "code",
      "source": [
        "# Create a 100x100 grayscale image with transparent background\n",
        "#import numpy as np\n",
        "#import tifffile as tiff\n",
        "\n",
        "print (alarm)\n",
        "\n",
        "#n=100\n",
        "#m=100\n",
        "new_save_name = 'deneme_151_2a'\n",
        "\n",
        "# Save the image as a grayscale tif file\n",
        "#tiff.imsave('new_image.tif', new_image, dtype='uint8')\n",
        "new_file_path = os.path.join(folder_path, new_save_name)\n",
        "tiff.imsave(new_file_path, difference_matrix)\n",
        "\n",
        "\n",
        "new_image = np.zeros((n, m, 2), dtype=np.uint8)\n",
        "new_image[:, :, 1] = 253  # Set alpha channel to 0 (transparent) ; (0,1,2)=(RGB) ; (3)=alpha\n",
        "\n",
        "\n",
        "# Stack grayscale and alpha channels\n",
        "image_data = np.stack([difference_matrix, alpha_data], axis=-1)\n",
        "\n",
        "\n",
        "# temp vers 2 a"
      ],
      "metadata": {
        "colab": {
          "base_uri": "https://localhost:8080/",
          "height": 384
        },
        "id": "9k9L6gWnwd3D",
        "outputId": "4c3f18c9-7983-420d-9677-11822649a3ad"
      },
      "execution_count": null,
      "outputs": [
        {
          "output_type": "stream",
          "name": "stdout",
          "text": [
            "1\n"
          ]
        },
        {
          "output_type": "stream",
          "name": "stderr",
          "text": [
            "<ipython-input-36-81589cfe3bf5>:14: DeprecationWarning: <tifffile.imsave> is deprecated. Use tifffile.imwrite\n",
            "  tiff.imsave(new_file_path, difference_matrix)\n"
          ]
        },
        {
          "output_type": "error",
          "ename": "ValueError",
          "evalue": "all input arrays must have the same shape",
          "traceback": [
            "\u001b[0;31m---------------------------------------------------------------------------\u001b[0m",
            "\u001b[0;31mValueError\u001b[0m                                Traceback (most recent call last)",
            "\u001b[0;32m<ipython-input-36-81589cfe3bf5>\u001b[0m in \u001b[0;36m<cell line: 22>\u001b[0;34m()\u001b[0m\n\u001b[1;32m     20\u001b[0m \u001b[0;34m\u001b[0m\u001b[0m\n\u001b[1;32m     21\u001b[0m \u001b[0;31m# Stack grayscale and alpha channels\u001b[0m\u001b[0;34m\u001b[0m\u001b[0;34m\u001b[0m\u001b[0m\n\u001b[0;32m---> 22\u001b[0;31m \u001b[0mimage_data\u001b[0m \u001b[0;34m=\u001b[0m \u001b[0mnp\u001b[0m\u001b[0;34m.\u001b[0m\u001b[0mstack\u001b[0m\u001b[0;34m(\u001b[0m\u001b[0;34m[\u001b[0m\u001b[0mdifference_matrix\u001b[0m\u001b[0;34m,\u001b[0m \u001b[0malpha_data\u001b[0m\u001b[0;34m]\u001b[0m\u001b[0;34m,\u001b[0m \u001b[0maxis\u001b[0m\u001b[0;34m=\u001b[0m\u001b[0;34m-\u001b[0m\u001b[0;36m1\u001b[0m\u001b[0;34m)\u001b[0m\u001b[0;34m\u001b[0m\u001b[0;34m\u001b[0m\u001b[0m\n\u001b[0m\u001b[1;32m     23\u001b[0m \u001b[0;34m\u001b[0m\u001b[0m\n\u001b[1;32m     24\u001b[0m \u001b[0;34m\u001b[0m\u001b[0m\n",
            "\u001b[0;32m/usr/local/lib/python3.10/dist-packages/numpy/core/shape_base.py\u001b[0m in \u001b[0;36mstack\u001b[0;34m(arrays, axis, out, dtype, casting)\u001b[0m\n\u001b[1;32m    447\u001b[0m     \u001b[0mshapes\u001b[0m \u001b[0;34m=\u001b[0m \u001b[0;34m{\u001b[0m\u001b[0marr\u001b[0m\u001b[0;34m.\u001b[0m\u001b[0mshape\u001b[0m \u001b[0;32mfor\u001b[0m \u001b[0marr\u001b[0m \u001b[0;32min\u001b[0m \u001b[0marrays\u001b[0m\u001b[0;34m}\u001b[0m\u001b[0;34m\u001b[0m\u001b[0;34m\u001b[0m\u001b[0m\n\u001b[1;32m    448\u001b[0m     \u001b[0;32mif\u001b[0m \u001b[0mlen\u001b[0m\u001b[0;34m(\u001b[0m\u001b[0mshapes\u001b[0m\u001b[0;34m)\u001b[0m \u001b[0;34m!=\u001b[0m \u001b[0;36m1\u001b[0m\u001b[0;34m:\u001b[0m\u001b[0;34m\u001b[0m\u001b[0;34m\u001b[0m\u001b[0m\n\u001b[0;32m--> 449\u001b[0;31m         \u001b[0;32mraise\u001b[0m \u001b[0mValueError\u001b[0m\u001b[0;34m(\u001b[0m\u001b[0;34m'all input arrays must have the same shape'\u001b[0m\u001b[0;34m)\u001b[0m\u001b[0;34m\u001b[0m\u001b[0;34m\u001b[0m\u001b[0m\n\u001b[0m\u001b[1;32m    450\u001b[0m \u001b[0;34m\u001b[0m\u001b[0m\n\u001b[1;32m    451\u001b[0m     \u001b[0mresult_ndim\u001b[0m \u001b[0;34m=\u001b[0m \u001b[0marrays\u001b[0m\u001b[0;34m[\u001b[0m\u001b[0;36m0\u001b[0m\u001b[0;34m]\u001b[0m\u001b[0;34m.\u001b[0m\u001b[0mndim\u001b[0m \u001b[0;34m+\u001b[0m \u001b[0;36m1\u001b[0m\u001b[0;34m\u001b[0m\u001b[0;34m\u001b[0m\u001b[0m\n",
            "\u001b[0;31mValueError\u001b[0m: all input arrays must have the same shape"
          ]
        }
      ]
    }
  ]
}